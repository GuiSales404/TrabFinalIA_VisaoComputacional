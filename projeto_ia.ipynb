{
  "nbformat": 4,
  "nbformat_minor": 0,
  "metadata": {
    "colab": {
      "name": "projeto-ia.ipynb",
      "provenance": [],
      "collapsed_sections": []
    },
    "kernelspec": {
      "name": "python3",
      "display_name": "Python 3"
    },
    "language_info": {
      "name": "python"
    },
    "accelerator": "TPU"
  },
  "cells": [
    {
      "cell_type": "markdown",
      "source": [
        "# **Trabalho Final de Inteligência Artificial**\n",
        "\n",
        "**Equipe:**\n",
        "\n",
        "> Cinthia Maria Andrade da Silva - 471317\n",
        "\n",
        "> Daniele Carnaúba Gonçalves - 473257\n",
        "\n",
        "> Guilherme Sales Fernandes - 499756\n",
        "\n",
        "\n",
        "\n",
        "\n"
      ],
      "metadata": {
        "id": "3jGjqvy7SRQp"
      }
    },
    {
      "cell_type": "code",
      "source": [
        "from google.colab import drive\n",
        "drive.mount('/content/drive')"
      ],
      "metadata": {
        "colab": {
          "base_uri": "https://localhost:8080/"
        },
        "id": "-Ey0VEOwVCQK",
        "outputId": "ad970042-569d-4994-84ed-c29011886aeb"
      },
      "execution_count": null,
      "outputs": [
        {
          "output_type": "stream",
          "name": "stdout",
          "text": [
            "Mounted at /content/drive\n"
          ]
        }
      ]
    },
    {
      "cell_type": "markdown",
      "source": [
        "# **Contextualizando**\n",
        "\n",
        "De acordo com o portaldotransito.com.br, o Brasil registrou 27.839 indenizações pagas por acidentes de trânsito com vítimas fatais entre janeiro e outubro de 2020. O país está entre os dez primeiros com maior número de mortes causadas por acidentes nas ruas, estradas e rodovias.\n",
        "\n",
        "O Brasil é um dos membros comprometidos com a Década de Ação pela Segurança no Trânsito 2011- 2020 para reduzir em 50% as mortes em acidentes de trânsito para o fim deste ano. De acordo com Ministério da Saúde, o país acompanha de maneira efetiva as intenções do acordo desde 2015, quando as mortes por acidentes de trânsito começaram a reduzir.\n",
        "\n",
        "Em 2020, os valores mostram inicialmente uma tendência de alta e, embora tenham caído o número de vítimas fatais no momento de maior distanciamento social, em setembro voltaram a aumentar.\n",
        "\n",
        "A partir desse cenário, pensamos em desenvolver um modelo que classifique imagens e identifique se nela há ou não algum acidente de transito. Ou seja, usaremos classificação de imagens usando técnicas da CNN e categorizamos as imagens em se há ou não acidente."
      ],
      "metadata": {
        "id": "yK9tCcoQTwNx"
      }
    },
    {
      "cell_type": "markdown",
      "source": [
        "### **Dados**\n",
        "\n",
        "Para esse trabalho, buscamos por algum dataset que possuisse imagens com acidentes e sem acidentes, e então encontramos o seguinte repositório com exatamente isso: https://github.com/mghatee/Accident-Images-Analysis-Dataset, que possui uma pasta com Aciddent - Detection, que contem 2500 mil imagens com etiqueta Sem acidente, e 2398 mil imagens com label Com acidente, que é exatamente o que queríamos. Vamos para os modelos."
      ],
      "metadata": {
        "id": "Xyq4hd-tVXqF"
      }
    },
    {
      "cell_type": "code",
      "source": [
        "#Importando as bibliotecas\n",
        "import matplotlib.pyplot as plt\n",
        "import numpy as np\n",
        "import os\n",
        "import PIL\n",
        "import tensorflow as tf\n",
        "from sklearn.metrics import f1_score\n",
        "\n",
        "from tensorflow import keras\n",
        "from tensorflow.keras import layers\n",
        "from tensorflow.keras.models import Sequential\n",
        "from keras.preprocessing.image import ImageDataGenerator\n",
        "import matplotlib.pyplot as plt"
      ],
      "metadata": {
        "id": "_JwAGqpuW3aN"
      },
      "execution_count": null,
      "outputs": []
    },
    {
      "cell_type": "code",
      "execution_count": null,
      "metadata": {
        "id": "VyAFbwtQR0q7"
      },
      "outputs": [],
      "source": [
        "#altura e largura padrao das imagens\n",
        "batch_size = 32\n",
        "img_height = 180\n",
        "img_width = 180"
      ]
    },
    {
      "cell_type": "code",
      "source": [
        "import pathlib\n",
        "#a base de imagens com 4898 mil imagens que irei utilizar como meu dataset\n",
        "base_dir = '/content/drive/MyDrive/UFC/inteligencia_artificial/acidentesDataSet/Accident -Detection' "
      ],
      "metadata": {
        "id": "FuLBeLaCWqUR"
      },
      "execution_count": null,
      "outputs": []
    },
    {
      "cell_type": "code",
      "source": [
        "datagen = ImageDataGenerator( rescale=1./255,\n",
        "    shear_range=0.2,\n",
        "    zoom_range=0.2,\n",
        "    horizontal_flip=True,\n",
        "    validation_split=0.2 # 80% - 20%\n",
        "  ) # set validation split com normalização \n",
        "\n",
        "#para mostrarmos exemplo das imagens\n",
        "model_exemple = datagen.flow_from_directory(base_dir,target_size=(img_height,img_width),batch_size=batch_size,class_mode='binary') "
      ],
      "metadata": {
        "colab": {
          "base_uri": "https://localhost:8080/"
        },
        "id": "TCT0n4wQW97F",
        "outputId": "3e746c6e-d96b-42d5-eed4-0672f270505e"
      },
      "execution_count": null,
      "outputs": [
        {
          "output_type": "stream",
          "name": "stdout",
          "text": [
            "Found 4898 images belonging to 2 classes.\n"
          ]
        }
      ]
    },
    {
      "cell_type": "markdown",
      "source": [
        "###**Exemplo das duas classes de imagens da minha base de imagens**"
      ],
      "metadata": {
        "id": "bWBA3LJiX6bN"
      }
    },
    {
      "cell_type": "code",
      "source": [
        "import cv2\n",
        "class_names = ['sem acidente', \"com acidente\"]\n",
        "\n",
        "labels =  [\"1\", '2']\n",
        "\n",
        "fig = plt.figure(figsize=(23,25))\n",
        "m = 0\n",
        "for i in list(model_exemple.class_indices.values()):\n",
        "  m += 1\n",
        "  for n in range(0,model_exemple.samples):\n",
        "    if model_exemple.classes[n] == i:\n",
        "      img = model_exemple.filepaths[n]\n",
        "      fig.add_subplot(6,6,m)\n",
        "      plt.title(class_names[i])\n",
        "      plt.imshow(cv2.cvtColor(cv2.imread(img), cv2.COLOR_BGR2RGB)) \n",
        "\n",
        "      plt.axis('off')\n",
        "      break\n",
        "plt.show()\n"
      ],
      "metadata": {
        "id": "FdQEFtt8-A82",
        "outputId": "4a53fc46-5828-465e-d038-6d9847574d28",
        "colab": {
          "base_uri": "https://localhost:8080/",
          "height": 230
        }
      },
      "execution_count": null,
      "outputs": [
        {
          "output_type": "display_data",
          "data": {
            "image/png": "[encoded data removed]",
            "text/plain": [
              "<Figure size 1656x1800 with 2 Axes>"
            ]
          },
          "metadata": {
            "needs_background": "light"
          }
        }
      ]
    },
    {
      "cell_type": "markdown",
      "source": [
        " ### Vamos usar 80% das imagens para treinamento e 20% para validação."
      ],
      "metadata": {
        "id": "pkjqsfe3aDvl"
      }
    },
    {
      "cell_type": "code",
      "source": [
        "train_ds = datagen.flow_from_directory(\n",
        "    base_dir,\n",
        "    target_size=(img_height, img_width),\n",
        "    batch_size=batch_size,\n",
        "    class_mode='binary',\n",
        "    subset='training') \n",
        "\n"
      ],
      "metadata": {
        "colab": {
          "base_uri": "https://localhost:8080/"
        },
        "id": "a_A1t3FQaFUe",
        "outputId": "9c5d330c-682c-4361-980d-ac22bc52932f"
      },
      "execution_count": null,
      "outputs": [
        {
          "output_type": "stream",
          "name": "stdout",
          "text": [
            "Found 3919 images belonging to 2 classes.\n"
          ]
        }
      ]
    },
    {
      "cell_type": "code",
      "source": [
        "val_ds = datagen.flow_from_directory(\n",
        "    base_dir, \n",
        "    target_size=(img_height, img_width),\n",
        "    batch_size=batch_size,\n",
        "    class_mode='binary',\n",
        "    subset='validation') "
      ],
      "metadata": {
        "colab": {
          "base_uri": "https://localhost:8080/"
        },
        "id": "hTLJeg80aVCF",
        "outputId": "3de9fc1f-85ba-443c-a60c-2cab85a899cd"
      },
      "execution_count": null,
      "outputs": [
        {
          "output_type": "stream",
          "name": "stdout",
          "text": [
            "Found 979 images belonging to 2 classes.\n"
          ]
        }
      ]
    },
    {
      "cell_type": "markdown",
      "source": [
        "### **Criando o modelo**\n",
        "\n",
        "Nosso primeiro modelo terá dois blocos de convolução com uma camada máxima de pool em cada um deles.\n"
      ],
      "metadata": {
        "id": "93Q9S1zXa6As"
      }
    },
    {
      "cell_type": "code",
      "source": [
        "#inspirado na arquitetura LeNet-5\n",
        "cnn1 = Sequential([\n",
        "    layers.Conv2D(8, kernel_size=(3, 3), activation='relu',padding='same',input_shape=(img_height, img_width, 3)),\n",
        "    layers.MaxPooling2D(pool_size=(2, 2),strides=2),\n",
        "    layers.Conv2D(16, kernel_size=(5, 5), activation='relu'),\n",
        "    layers.MaxPooling2D(pool_size=(2, 2),strides=2),\n",
        "    layers.Flatten(),\n",
        "    layers.Dense(1, activation='sigmoid') \n",
        "])\n"
      ],
      "metadata": {
        "id": "wClfroQ6bA9J"
      },
      "execution_count": null,
      "outputs": []
    },
    {
      "cell_type": "code",
      "source": [
        "cnn1.compile(optimizer='adam',\n",
        "              loss='binary_crossentropy',\n",
        "              metrics=['accuracy', tf.keras.metrics.Precision(), tf.keras.metrics.Recall()])"
      ],
      "metadata": {
        "id": "LpbnzSJ2bGi1"
      },
      "execution_count": null,
      "outputs": []
    },
    {
      "cell_type": "markdown",
      "source": [
        "Treinando o modelo"
      ],
      "metadata": {
        "id": "jvSacFz8cSoN"
      }
    },
    {
      "cell_type": "code",
      "source": [
        "epochs=10\n",
        "history = cnn1.fit(\n",
        "  train_ds,\n",
        "  validation_data=val_ds,\n",
        "  epochs=epochs\n",
        ")"
      ],
      "metadata": {
        "colab": {
          "base_uri": "https://localhost:8080/"
        },
        "id": "as-BoORBcVLC",
        "outputId": "cfe774ae-64e9-4e38-c8dc-2d87086c3378"
      },
      "execution_count": null,
      "outputs": [
        {
          "output_type": "stream",
          "name": "stdout",
          "text": [
            "Epoch 1/10\n",
            "123/123 [==============================] - 544s 4s/step - loss: 0.6790 - accuracy: 0.5792 - precision: 0.5496 - recall: 0.7796 - val_loss: 0.4884 - val_accuracy: 0.7978 - val_precision: 0.8215 - val_recall: 0.7495\n",
            "Epoch 2/10\n",
            "123/123 [==============================] - 118s 960ms/step - loss: 0.4913 - accuracy: 0.7635 - precision: 0.7451 - recall: 0.7858 - val_loss: 0.3451 - val_accuracy: 0.8550 - val_precision: 0.8503 - val_recall: 0.8539\n",
            "Epoch 3/10\n",
            "123/123 [==============================] - 118s 960ms/step - loss: 0.4247 - accuracy: 0.8017 - precision: 0.7858 - recall: 0.8181 - val_loss: 0.4008 - val_accuracy: 0.8243 - val_precision: 0.9050 - val_recall: 0.7161\n",
            "Epoch 4/10\n",
            "123/123 [==============================] - 118s 959ms/step - loss: 0.3988 - accuracy: 0.8219 - precision: 0.8107 - recall: 0.8301 - val_loss: 0.4139 - val_accuracy: 0.8090 - val_precision: 0.9534 - val_recall: 0.6409\n",
            "Epoch 5/10\n",
            "123/123 [==============================] - 127s 1s/step - loss: 0.3757 - accuracy: 0.8359 - precision: 0.8306 - recall: 0.8353 - val_loss: 0.3139 - val_accuracy: 0.8611 - val_precision: 0.8961 - val_recall: 0.8100\n",
            "Epoch 6/10\n",
            "123/123 [==============================] - 134s 1s/step - loss: 0.3664 - accuracy: 0.8369 - precision: 0.8265 - recall: 0.8442 - val_loss: 0.3168 - val_accuracy: 0.8641 - val_precision: 0.8252 - val_recall: 0.9165\n",
            "Epoch 7/10\n",
            "123/123 [==============================] - 128s 1s/step - loss: 0.3429 - accuracy: 0.8525 - precision: 0.8465 - recall: 0.8536 - val_loss: 0.2808 - val_accuracy: 0.8989 - val_precision: 0.8878 - val_recall: 0.9081\n",
            "Epoch 8/10\n",
            "123/123 [==============================] - 122s 987ms/step - loss: 0.3281 - accuracy: 0.8663 - precision: 0.8601 - recall: 0.8682 - val_loss: 0.2733 - val_accuracy: 0.8887 - val_precision: 0.9167 - val_recall: 0.8497\n",
            "Epoch 9/10\n",
            "123/123 [==============================] - 128s 1s/step - loss: 0.3302 - accuracy: 0.8620 - precision: 0.8537 - recall: 0.8666 - val_loss: 0.3240 - val_accuracy: 0.8580 - val_precision: 0.9187 - val_recall: 0.7787\n",
            "Epoch 10/10\n",
            "123/123 [==============================] - 118s 955ms/step - loss: 0.3152 - accuracy: 0.8676 - precision: 0.8579 - recall: 0.8744 - val_loss: 0.3125 - val_accuracy: 0.8713 - val_precision: 0.9021 - val_recall: 0.8267\n"
          ]
        }
      ]
    },
    {
      "cell_type": "markdown",
      "source": [
        "### Avaliação e plots do modelo\n",
        "\n"
      ],
      "metadata": {
        "id": "FDjB5XSDcyRR"
      }
    },
    {
      "cell_type": "code",
      "source": [
        "--# visualizing losses and accuracy\n",
        "import statistics\n",
        "\n",
        "xc = range(epochs)\n",
        "\n",
        "precision = statistics.mean(history.history['precision'])\n",
        "recall = statistics.mean(history.history['recall'])\n",
        "\n",
        "train_acc = history.history['accuracy']\n",
        "val_acc = history.history['val_accuracy']\n",
        "\n",
        "train_loss = history.history['loss']\n",
        "val_loss = history.history['val_loss']\n",
        "\n",
        "f1_score = 2*(precision*recall)/(precision+recall)\n",
        "\n",
        "epochs_range = range(epochs)\n",
        "\n",
        "plt.figure(figsize=(8, 8))\n",
        "plt.subplot(1, 2, 1)\n",
        "plt.plot(epochs_range, train_acc, label='Training Accuracy')\n",
        "plt.plot(epochs_range, val_acc, label='Validation Accuracy')\n",
        "plt.legend(loc='lower right')\n",
        "plt.title('Training and Validation Accuracy')\n",
        "\n",
        "plt.subplot(1, 2, 2)\n",
        "plt.plot(epochs_range, train_loss, label='Training Loss')\n",
        "plt.plot(epochs_range, val_loss, label='Validation Loss')\n",
        "plt.legend(loc='upper right')\n",
        "plt.title('Training and Validation Loss')\n",
        "plt.show()\n",
        "\n",
        "print(\"Média - treino loss \", statistics.mean(train_loss)*100, \"%\")\n",
        "print(\"Média - val loss \", statistics.mean(val_loss)*100, \"%\")\n",
        "print(\"Média - treino acurácia \", statistics.mean(train_acc)*100, \"%\")\n",
        "print(\"Média - val acurácia \", statistics.mean(val_acc)*100, \"%\")\n",
        "\n",
        "print(\"F1-Score: \", f1_score*100, \"%\")\n",
        "print(\"Recall: \", recall*100, \"%\")\n",
        "print(\"Precision: \", precision*100, \"%\")"
      ],
      "metadata": {
        "colab": {
          "base_uri": "https://localhost:8080/",
          "height": 621
        },
        "id": "yPWph0w-c06o",
        "outputId": "f2633a37-9070-4287-e6e5-71995123f220"
      },
      "execution_count": null,
      "outputs": [
        {
          "output_type": "display_data",
          "data": {
            "image/png": "[encoded data removed]",
            "text/plain": [
              "<Figure size 576x576 with 2 Axes>"
            ]
          },
          "metadata": {
            "needs_background": "light"
          }
        },
        {
          "output_type": "stream",
          "name": "stdout",
          "text": [
            "Média - treino loss  40.52339196205139 %\n",
            "Média - val loss  34.693564772605896 %\n",
            "Média - treino acurácia  80.87522327899933 %\n",
            "Média - val acurácia  85.28089940547943 %\n",
            "F1-Score:  81.5651082881688 %\n",
            "Recall:  83.5591447353363 %\n",
            "Precision:  79.66402411460876 %\n"
          ]
        }
      ]
    },
    {
      "cell_type": "code",
      "source": [
        "import pylab\n",
        "from scipy import misc\n",
        "\n",
        "class_labels = ['sem acidente', \"com acidente\"]\n",
        "def plot_image( predictions_array, true_label, img, teste):\n",
        "\n",
        "  plt.grid(False)\n",
        "  plt.xticks([])\n",
        "  plt.yticks([])\n",
        "  plt.imshow(cv2.cvtColor(cv2.imread(teste), cv2.COLOR_BGR2RGB)) \n",
        "\n",
        "  predicted_label = np.argmax(predictions_array)\n",
        "  if predicted_label == true_label:\n",
        "    color = 'blue'\n",
        "  else:\n",
        "    color = 'red'\n",
        "\n",
        "  plt.xlabel(\"{} {:2.0f}% ({})\".format(class_labels[predicted_label],\n",
        "                                100*np.max(predictions_array),\n",
        "                                class_names[true_label]),\n",
        "                                color=color)\n"
      ],
      "metadata": {
        "id": "c7eOkClDqJ5-"
      },
      "execution_count": null,
      "outputs": []
    },
    {
      "cell_type": "code",
      "source": [
        "predictions = cnn1.predict(val_ds)"
      ],
      "metadata": {
        "id": "ial4uVVKtjnm"
      },
      "execution_count": null,
      "outputs": []
    },
    {
      "cell_type": "code",
      "source": [
        "\n",
        "score = predictions[0]\n",
        "class_labels = ['sem acidente', \"com acidente\"]\n",
        "print(np.argmax(predictions[0]))\n",
        "\n",
        "print(\n",
        "    \"Esta imagem provavelmente pertence a  label: '{}' com uma confiança de {:.2f} %.\"\n",
        "    .format(class_labels[np.argmax(score)], 100 * np.max(score))\n",
        ")\n",
        "np.argmax(predictions[0])\n"
      ],
      "metadata": {
        "colab": {
          "base_uri": "https://localhost:8080/"
        },
        "id": "xUX9GZztp0MP",
        "outputId": "1b99b9a4-a5b8-4878-eb1e-e434b66db440"
      },
      "execution_count": null,
      "outputs": [
        {
          "output_type": "stream",
          "name": "stdout",
          "text": [
            "0\n",
            "Esta imagem provavelmente pertence a  label: 'sem acidente' com uma confiança de 33.86 %.\n"
          ]
        },
        {
          "output_type": "execute_result",
          "data": {
            "text/plain": [
              "0"
            ]
          },
          "metadata": {},
          "execution_count": 42
        }
      ]
    },
    {
      "cell_type": "code",
      "source": [
        "num_images = 5*1\n",
        "plt.figure(figsize=(2*2*1, 2*5))\n",
        "for i in range(num_images):\n",
        "  plt.subplot(5, 2*1, 2*i+1)\n",
        "  plot_image(predictions[i], val_ds.classes[i] , val_ds[i],val_ds.filepaths[i])\n",
        "\n",
        "plt.show()"
      ],
      "metadata": {
        "colab": {
          "base_uri": "https://localhost:8080/",
          "height": 589
        },
        "id": "xxmmgCoOouIE",
        "outputId": "4d20c357-832a-45fb-923e-5096e1651750"
      },
      "execution_count": null,
      "outputs": [
        {
          "output_type": "display_data",
          "data": {
            "image/png": "[encoded data removed]",
            "text/plain": [
              "<Figure size 288x720 with 5 Axes>"
            ]
          },
          "metadata": {}
        }
      ]
    },
    {
      "cell_type": "markdown",
      "source": [
        "### **Conclusão**"
      ],
      "metadata": {
        "id": "cHNzSsz7Qbnt"
      }
    },
    {
      "cell_type": "markdown",
      "source": [
        "Como podemos ver a média da precisão do treinamento e da precisão da validação estão erradas por uma pequena margem,\n",
        " e o modelo atingiu cerca de 70% de precisão no conjunto de validação.\n",
        "\n",
        "E sobre a perda, podemos observar que a perda de treinamento fica menor que a validation loss, e as duas estão bem baixas, o que é um bom sinal, pois nosso intuito é fazer com que a perda de validação seja a mais baixa possível.\n",
        "\n",
        "Desenvolvendo sobre o resultado das métricas podemos discorrer que: \n",
        "\n",
        "- Loss: No loss, ajuste dos erros, podemos ver muito claramente o ponto onde a evolução das épocas começou a influênciar muito pouco nos resultados, vemos que depois da execução da primeira época os valores pouco variaram. Tivemos um início muito bom.\n",
        "\n",
        "- Acurácia: É uma métroca muito simples, serve como base de cálculo para várias outras. Basicamente, ela descreve o quão frequentemente o nosso classificador executa a predição correta, nesse projeto é bem mais simples sua execução visto a natureza binária do problema. \n",
        "\n",
        "- F1-Score: É uma média muito comum na análise de desempenho de redes neurais por oferecer uma visualização das métricas Recall e Precision de uma vez só. Basicamente o F1-Score é a média harmônica das métricas citadas. O Recall muito interessante, basicamente ela funciona para combater situações de Falsos Negativos e para modelos específicos, como reconhecimento de câncer e doenças no geral, é muito sério que acontece isso, por isso a importância de manter um valor elevado aqui, mesmo que isso custe alguns Falsos Positivos. A precisão é a modelagem do extremo oposto, lidar com situações onde o Falso Positivo é pior do que o Falso Negativo, por exemplo em um cenário de avaliação de investimentos."
      ],
      "metadata": {
        "id": "gycwjjsidFwn"
      }
    }
  ]
}